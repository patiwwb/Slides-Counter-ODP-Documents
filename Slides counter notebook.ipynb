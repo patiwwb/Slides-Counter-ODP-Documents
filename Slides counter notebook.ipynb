{
 "cells": [
  {
   "cell_type": "code",
   "execution_count": 1,
   "metadata": {},
   "outputs": [],
   "source": [
    "import glob"
   ]
  },
  {
   "cell_type": "code",
   "execution_count": 18,
   "metadata": {
    "scrolled": true
   },
   "outputs": [
    {
     "name": "stdout",
     "output_type": "stream",
     "text": [
      "['./INCOMING FR\\\\NET-0160-Translations.odp', './INCOMING FR\\\\NET-0190-vlans.odp', './INCOMING FR\\\\NET-0415-SSH.odp', './INCOMING FR\\\\NET-0425-Web.odp', './INCOMING FR\\\\NET-0430-Messagerie.odp', './INCOMING FR\\\\NET-0740-Firewalls.odp', './INCOMING FR\\\\NET-0745-Tunneling.odp', './INCOMING FR\\\\NET-0750-VPNs.odp', './INCOMING FR\\\\NET-0755-VPNsIPSEC.odp', './INCOMING FR\\\\NET-0760-Proxys.odp', './INCOMING FR\\\\NET-1150-DMZ.odp', './INCOMING FR\\\\NET-1400-Virtualisation.odp', './INCOMING FR\\\\NET-1450-CloudComputing.odp', './INCOMING FR\\\\NET-5000-IoT.odp', './INCOMING FR\\\\SECU-0020-Attaques.odp', './INCOMING FR\\\\SECU-0310-AttaquesWeb.odp', './INCOMING FR\\\\SECU-0500-OWASP.odp', './INCOMING FR\\\\SECU-0700-SecuDonnees.odp', './INCOMING FR\\\\SECU-0720-IAM.odp', './INCOMING FR\\\\SECU-0721-ControleAcces.odp', './INCOMING FR\\\\SECU-0722-MotDePasse.odp', './INCOMING FR\\\\SECU-0725-ControleAccesIdentite.odp', './INCOMING FR\\\\SECU-0726-ControleAccesAuthent.odp', './INCOMING FR\\\\SECU-0727-ControleAccesAutorisation.odp', './INCOMING FR\\\\SECU-1000-CryptIntro.odp', './INCOMING FR\\\\SECU-1001-Chiffrement.odp', './INCOMING FR\\\\SECU-1002-EchangeDeClefs.odp', './INCOMING FR\\\\SECU-1004-Hachage.odp', './INCOMING FR\\\\SECU-1005-CryptoHistoire.odp', './INCOMING FR\\\\SECU-1007-CryptLegislation.odp', './INCOMING FR\\\\SECU-1010-SignatureNumerique.odp', './INCOMING FR\\\\SECU-1015-Certificats.odp', './INCOMING FR\\\\SECU-1020-SSL-TLS.odp', './INCOMING FR\\\\SECU-1060-PKI.odp', './INCOMING FR\\\\SECU-1070-Blockchain.odp', './INCOMING FR\\\\SECU-1210-SecuriteCouche2.odp', './INCOMING FR\\\\SECU-1220-SecuriteReseauSupervision.odp', './INCOMING FR\\\\SECU-1221-SecuriteReseauSupervisionSNMP.odp', './INCOMING FR\\\\SECU-1240-SecuriteWifi.odp', './INCOMING FR\\\\SECU-1300-ArchitecturesAAA.odp', './INCOMING FR\\\\SECU-1400-IDS-IPS.odp', './INCOMING FR\\\\SECU-1455-ReverseProxy.odp', './INCOMING FR\\\\SECU-1560-SecuComIoT.odp', './INCOMING FR\\\\SECU-2400-VulnerabilitesSE.odp', './INCOMING FR\\\\SECU-2510-CassageMdp.odp', './INCOMING FR\\\\SECU-2600-Hardening.odp', './INCOMING FR\\\\SECU-3000-CritereEval.odp', './INCOMING FR\\\\SECU-3010-DevSecurises.odp', './INCOMING FR\\\\SECU-3100-PatchManagement.odp', './INCOMING FR\\\\SECU-6010-Antivirus.odp', './INCOMING FR\\\\SECU-6040-Antispam.odp', './INCOMING FR\\\\SECU-ORSYS-SES-ISI-2202.odp', './INCOMING FR\\\\SES-1Diapo.odp']\n"
     ]
    }
   ],
   "source": [
    "txtfiles = []\n",
    "all_files = glob.glob(\"./INCOMING FR/*.odp\")\n",
    "print(glob.glob(\"./INCOMING FR/*.odp\"))"
   ]
  },
  {
   "cell_type": "code",
   "execution_count": 3,
   "metadata": {},
   "outputs": [],
   "source": [
    "FILES_COUNT = len(all_files)"
   ]
  },
  {
   "cell_type": "code",
   "execution_count": 4,
   "metadata": {},
   "outputs": [
    {
     "name": "stdout",
     "output_type": "stream",
     "text": [
      "53  Different .odp files\n"
     ]
    }
   ],
   "source": [
    "print(FILES_COUNT, ' Different .odp files')"
   ]
  },
  {
   "cell_type": "code",
   "execution_count": 5,
   "metadata": {},
   "outputs": [],
   "source": [
    "files_names = []\n",
    "files_slides = []"
   ]
  },
  {
   "cell_type": "code",
   "execution_count": 6,
   "metadata": {},
   "outputs": [],
   "source": [
    "with open('files_list.txt', 'w') as the_file:\n",
    "    for i in range(FILES_COUNT):\n",
    "        files_names.append(all_files[i].split(\"\\\\\")[-1])\n",
    "        the_file.write(all_files[i].split(\"\\\\\")[-1] + '\\n')"
   ]
  },
  {
   "cell_type": "code",
   "execution_count": 13,
   "metadata": {
    "scrolled": true
   },
   "outputs": [
    {
     "name": "stdout",
     "output_type": "stream",
     "text": [
      "1030 slides in total\n"
     ]
    }
   ],
   "source": [
    "import zipfile\n",
    "import re\n",
    "\n",
    "counter = 0\n",
    "FILEPATH = \"./INCOMING FR/\"\n",
    "files_slides = []\n",
    "for i in range(FILES_COUNT):\n",
    "    archive = zipfile.ZipFile(FILEPATH + files_names[i], 'r')\n",
    "    content_xml = archive.read('content.xml')\n",
    "    x = re.findall(rb\"<draw:page([\\s\\S]*?)<\\/draw:page>\", content_xml)\n",
    "    r = len(x)\n",
    "    files_slides.append(r)\n",
    "    counter += int(r)\n",
    "    archive.close()\n",
    "\n",
    "print(counter, \"slides in total\")"
   ]
  },
  {
   "cell_type": "code",
   "execution_count": 14,
   "metadata": {},
   "outputs": [],
   "source": [
    "with open('list.txt', 'w') as the_file:\n",
    "    for i in range(FILES_COUNT):\n",
    "        the_file.write(files_names[i] + \" \" + str(files_slides[i]) + '\\n')\n"
   ]
  },
  {
   "cell_type": "code",
   "execution_count": 15,
   "metadata": {},
   "outputs": [
    {
     "name": "stdout",
     "output_type": "stream",
     "text": [
      "53 different files\n",
      "1030 slides in total\n",
      "Personne 1 a  27  fichiers avec  515 slides\n",
      "Personne 2 a  26  fichiers avec  515 slides\n",
      "----------------------------------------------------------------------------------\n",
      "Détail Personne 1\n",
      "27  fichiers\n",
      "515  slides\n",
      "SECU-0727-ControleAccesAutorisation.odp --> 3\n",
      "SECU-1000-CryptIntro.odp --> 14\n",
      "SECU-1001-Chiffrement.odp --> 86\n",
      "SECU-1002-EchangeDeClefs.odp --> 12\n",
      "SECU-1004-Hachage.odp --> 28\n",
      "SECU-1005-CryptoHistoire.odp --> 14\n",
      "NET-0425-Web.odp --> 9\n",
      "NET-0430-Messagerie.odp --> 10\n",
      "SECU-1020-SSL-TLS.odp --> 38\n",
      "SECU-1060-PKI.odp --> 72\n",
      "SECU-1070-Blockchain.odp --> 13\n",
      "NET-0745-Tunneling.odp --> 6\n",
      "NET-1400-Virtualisation.odp --> 4\n",
      "SECU-1221-SecuriteReseauSupervisionSNMP.odp --> 3\n",
      "NET-0160-Translations.odp --> 7\n",
      "NET-0415-SSH.odp --> 11\n",
      "SECU-1400-IDS-IPS.odp --> 16\n",
      "NET-0760-Proxys.odp --> 10\n",
      "SECU-1560-SecuComIoT.odp --> 69\n",
      "SECU-2400-VulnerabilitesSE.odp --> 12\n",
      "SECU-0310-AttaquesWeb.odp --> 9\n",
      "SECU-0722-MotDePasse.odp --> 8\n",
      "SECU-3010-DevSecurises.odp --> 26\n",
      "NET-1450-CloudComputing.odp --> 6\n",
      "SECU-6010-Antivirus.odp --> 16\n",
      "SECU-6040-Antispam.odp --> 12\n",
      "SES-1Diapo.odp --> 1\n",
      "----------------------------------------------------------------------------------\n",
      "Détail Personne 2\n",
      "26  fichiers\n",
      "515  slides\n",
      "SECU-1240-SecuriteWifi.odp --> 7\n",
      "NET-0190-vlans.odp --> 25\n",
      "NET-0740-Firewalls.odp --> 11\n",
      "SECU-1007-CryptLegislation.odp --> 9\n",
      "SECU-1010-SignatureNumerique.odp --> 10\n",
      "SECU-1300-ArchitecturesAAA.odp --> 11\n",
      "SECU-1210-SecuriteCouche2.odp --> 6\n",
      "NET-0750-VPNs.odp --> 32\n",
      "NET-0755-VPNsIPSEC.odp --> 30\n",
      "SECU-1455-ReverseProxy.odp --> 10\n",
      "NET-1150-DMZ.odp --> 5\n",
      "SECU-1220-SecuriteReseauSupervision.odp --> 4\n",
      "SECU-3100-PatchManagement.odp --> 6\n",
      "NET-5000-IoT.odp --> 25\n",
      "SECU-0020-Attaques.odp --> 24\n",
      "SECU-2510-CassageMdp.odp --> 9\n",
      "SECU-0500-OWASP.odp --> 35\n",
      "SECU-0700-SecuDonnees.odp --> 5\n",
      "SECU-0720-IAM.odp --> 15\n",
      "SECU-0721-ControleAcces.odp --> 37\n",
      "SECU-0725-ControleAccesIdentite.odp --> 8\n",
      "SECU-3000-CritereEval.odp --> 8\n",
      "SECU-0726-ControleAccesAuthent.odp --> 29\n",
      "SECU-1015-Certificats.odp --> 35\n",
      "SECU-2600-Hardening.odp --> 20\n",
      "SECU-ORSYS-SES-ISI-2202.odp --> 99\n"
     ]
    }
   ],
   "source": [
    "import os.path\n",
    "text = open(\"list.txt\").read()\n",
    "\n",
    "list_files = text.splitlines( )\n",
    "for l in list_files:\n",
    "    filename = l.split(\" \")[0]\n",
    "    extension = os.path.splitext(filename)[1]\n",
    "    if(extension != \".odp\"):\n",
    "        print(filename, extension)\n",
    "        list_files.remove(l)\n",
    "#print(list_files)\n",
    "files_dict = {}\n",
    "for i in list_files:\n",
    "    files_dict[i.split(\" \")[0]] = i.split(\" \")[1]\n",
    "\n",
    "total_slides_count = 0\n",
    "for value in files_dict.values():\n",
    "    total_slides_count += int(value)\n",
    "print(len(files_dict), \"different files\")\n",
    "print(total_slides_count, \"slides in total\")\n",
    "\n",
    "for k, v in files_dict.items():\n",
    "    files_dict[k] = int(v)\n",
    "\n",
    "\"\"\"\n",
    "def by_value(item):\n",
    "    return item[1]\n",
    "\n",
    "for k, v in sorted(files_dict.items(), key=by_value):\n",
    "    print(k, '->', v)\n",
    "\n",
    "x1= 0\n",
    "list1 = []\n",
    "x2 = 0\n",
    "list2 = []\n",
    "i = 0\n",
    "for k, v in sorted(files_dict.items(), key=by_value):\n",
    "    if(i%2 == 0):\n",
    "        x1 += v\n",
    "        list1.append(k)\n",
    "        i += 1\n",
    "    else:\n",
    "        x2+= v\n",
    "        list2.append(k)\n",
    "        i += 1\n",
    "        \n",
    "print(x1)\n",
    "print(list1)\n",
    "print(x2)\n",
    "print(list2)\n",
    "\n",
    "\"\"\"\n",
    "liste = (list(files_dict.values()))\n",
    "\n",
    "def sumSplit(left,right=[],difference=0):\n",
    "    sumLeft,sumRight = sum(left),sum(right)\n",
    "\n",
    "    # stop recursion if left is smaller than right\n",
    "    if sumLeft<sumRight or len(left)<len(right): return\n",
    "\n",
    "    # return a solution if sums match the tolerance target\n",
    "    if sumLeft-sumRight == difference:\n",
    "        return left, right, difference\n",
    "\n",
    "    # recurse, brutally attempting to move each item to the right\n",
    "    for i,value in enumerate(left):\n",
    "        solution = sumSplit(left[:i]+left[i+1:],right+[value], difference)\n",
    "        if solution: return solution\n",
    "\n",
    "    if right or difference > 0: return \n",
    "    # allow for imperfect split (i.e. larger difference) ...\n",
    "    for targetDiff in range(1, sumLeft-min(left)+1):\n",
    "        solution = sumSplit(left, right, targetDiff)\n",
    "        if solution: return solution \n",
    "     \n",
    "def SelectFiles(l1,l2):\n",
    "    tempdict = files_dict\n",
    "    dic1 = {}\n",
    "    dic2 = {}\n",
    "    length_l1 = len(l1)\n",
    "    length_l2 = len(l2)\n",
    "    for i in range(length_l1):\n",
    "        for key in list(tempdict.keys()):\n",
    "            if(l1[i] == tempdict.get(key)):\n",
    "                dic1[key] = int(tempdict.get(key))\n",
    "                del tempdict[key]\n",
    "                break;\n",
    "        i +=1\n",
    "    for i in range(length_l2):\n",
    "        for key in list(tempdict.keys()):\n",
    "            if(l2[i] == tempdict.get(key)):\n",
    "                dic2[key] = int(tempdict.get(key))\n",
    "                del tempdict[key]\n",
    "                break;\n",
    "        i +=1\n",
    "    return dic1,dic2\n",
    "    \n",
    "print(\"Personne 1 a \",len(sumSplit(liste)[0]),\" fichiers avec \",sum(sumSplit(liste)[0]), \"slides\")\n",
    "print(\"Personne 2 a \",len(sumSplit(liste)[1]),\" fichiers avec \",sum(sumSplit(liste)[1]), \"slides\")\n",
    "#print(sumSplit(liste))\n",
    "dic1,dic2 = SelectFiles(sumSplit(liste)[0],sumSplit(liste)[1])\n",
    "print(\"----------------------------------------------------------------------------------\")\n",
    "print(\"Détail Personne 1\")\n",
    "sum1 = 0\n",
    "for k, v in dic1.items():\n",
    "    sum1 += v\n",
    "print(len(dic1),\" fichiers\")\n",
    "print(sum1, \" slides\")\n",
    "for k, v in dic1.items():\n",
    "    print(k,\"-->\",v)\n",
    "\n",
    "\n",
    "print(\"----------------------------------------------------------------------------------\")\n",
    "print(\"Détail Personne 2\")\n",
    "sum2 = 0\n",
    "for k, v in dic2.items():\n",
    "    sum2 += v\n",
    "print(len(dic2),\" fichiers\")\n",
    "print(sum2, \" slides\")\n",
    "for k, v in dic2.items():\n",
    "    print(k,\"-->\",v)"
   ]
  }
 ],
 "metadata": {
  "kernelspec": {
   "display_name": "Python 3 (ipykernel)",
   "language": "python",
   "name": "python3"
  },
  "language_info": {
   "codemirror_mode": {
    "name": "ipython",
    "version": 3
   },
   "file_extension": ".py",
   "mimetype": "text/x-python",
   "name": "python",
   "nbconvert_exporter": "python",
   "pygments_lexer": "ipython3",
   "version": "3.8.5"
  }
 },
 "nbformat": 4,
 "nbformat_minor": 5
}
