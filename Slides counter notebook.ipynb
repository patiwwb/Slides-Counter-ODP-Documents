{
 "cells": [
  {
   "cell_type": "code",
   "execution_count": null,
   "metadata": {},
   "outputs": [],
   "source": [
    "import glob"
   ]
  },
  {
   "cell_type": "code",
   "execution_count": null,
   "metadata": {
    "scrolled": true
   },
   "outputs": [],
   "source": [
    "txtfiles = []\n",
    "all_files = glob.glob(\"./directory_name/*.odp\")\n",
    "print(glob.glob(\"./directory_name/*.odp\"))"
   ]
  },
  {
   "cell_type": "code",
   "execution_count": null,
   "metadata": {},
   "outputs": [],
   "source": [
    "FILES_COUNT = len(all_files)"
   ]
  },
  {
   "cell_type": "code",
   "execution_count": null,
   "metadata": {},
   "outputs": [],
   "source": [
    "print(FILES_COUNT, ' Different .odp files')"
   ]
  },
  {
   "cell_type": "code",
   "execution_count": null,
   "metadata": {},
   "outputs": [],
   "source": [
    "files_names = []\n",
    "files_slides = []"
   ]
  },
  {
   "cell_type": "code",
   "execution_count": null,
   "metadata": {},
   "outputs": [],
   "source": [
    "with open('files_list.txt', 'w') as the_file:\n",
    "    for i in range(FILES_COUNT):\n",
    "        files_names.append(all_files[i].split(\"\\\\\")[-1])\n",
    "        the_file.write(all_files[i].split(\"\\\\\")[-1] + '\\n')"
   ]
  },
  {
   "cell_type": "code",
   "execution_count": null,
   "metadata": {
    "scrolled": true
   },
   "outputs": [],
   "source": [
    "import zipfile\n",
    "import re\n",
    "\n",
    "counter = 0\n",
    "FILEPATH = \"./directory_name/\"\n",
    "files_slides = []\n",
    "for i in range(FILES_COUNT):\n",
    "    archive = zipfile.ZipFile(FILEPATH + files_names[i], 'r')\n",
    "    content_xml = archive.read('content.xml')\n",
    "    x = re.findall(rb\"<draw:page([\\s\\S]*?)<\\/draw:page>\", content_xml)\n",
    "    r = len(x)\n",
    "    files_slides.append(r)\n",
    "    counter += int(r)\n",
    "    archive.close()\n",
    "\n",
    "print(counter, \"slides in total\")"
   ]
  },
  {
   "cell_type": "code",
   "execution_count": null,
   "metadata": {},
   "outputs": [],
   "source": [
    "with open('list.txt', 'w') as the_file:\n",
    "    for i in range(FILES_COUNT):\n",
    "        the_file.write(files_names[i] + \" \" + str(files_slides[i]) + '\\n')\n"
   ]
  },
  {
   "cell_type": "code",
   "execution_count": null,
   "metadata": {},
   "outputs": [],
   "source": [
    "import os.path\n",
    "text = open(\"list.txt\").read()\n",
    "\n",
    "list_files = text.splitlines( )\n",
    "for l in list_files:\n",
    "    filename = l.split(\" \")[0]\n",
    "    extension = os.path.splitext(filename)[1]\n",
    "    if(extension != \".odp\"):\n",
    "        print(filename, extension)\n",
    "        list_files.remove(l)\n",
    "#print(list_files)\n",
    "files_dict = {}\n",
    "for i in list_files:\n",
    "    files_dict[i.split(\" \")[0]] = i.split(\" \")[1]\n",
    "\n",
    "total_slides_count = 0\n",
    "for value in files_dict.values():\n",
    "    total_slides_count += int(value)\n",
    "print(len(files_dict), \"different files\")\n",
    "print(total_slides_count, \"slides in total\")\n",
    "\n",
    "for k, v in files_dict.items():\n",
    "    files_dict[k] = int(v)\n",
    "\n",
    "\"\"\"\n",
    "def by_value(item):\n",
    "    return item[1]\n",
    "\n",
    "for k, v in sorted(files_dict.items(), key=by_value):\n",
    "    print(k, '->', v)\n",
    "\n",
    "x1= 0\n",
    "list1 = []\n",
    "x2 = 0\n",
    "list2 = []\n",
    "i = 0\n",
    "for k, v in sorted(files_dict.items(), key=by_value):\n",
    "    if(i%2 == 0):\n",
    "        x1 += v\n",
    "        list1.append(k)\n",
    "        i += 1\n",
    "    else:\n",
    "        x2+= v\n",
    "        list2.append(k)\n",
    "        i += 1\n",
    "        \n",
    "print(x1)\n",
    "print(list1)\n",
    "print(x2)\n",
    "print(list2)\n",
    "\n",
    "\"\"\"\n",
    "liste = (list(files_dict.values()))\n",
    "\n",
    "def sumSplit(left,right=[],difference=0):\n",
    "    sumLeft,sumRight = sum(left),sum(right)\n",
    "\n",
    "    # stop recursion if left is smaller than right\n",
    "    if sumLeft<sumRight or len(left)<len(right): return\n",
    "\n",
    "    # return a solution if sums match the tolerance target\n",
    "    if sumLeft-sumRight == difference:\n",
    "        return left, right, difference\n",
    "\n",
    "    # recurse, brutally attempting to move each item to the right\n",
    "    for i,value in enumerate(left):\n",
    "        solution = sumSplit(left[:i]+left[i+1:],right+[value], difference)\n",
    "        if solution: return solution\n",
    "\n",
    "    if right or difference > 0: return \n",
    "    # allow for imperfect split (i.e. larger difference) ...\n",
    "    for targetDiff in range(1, sumLeft-min(left)+1):\n",
    "        solution = sumSplit(left, right, targetDiff)\n",
    "        if solution: return solution \n",
    "     \n",
    "def SelectFiles(l1,l2):\n",
    "    tempdict = files_dict\n",
    "    dic1 = {}\n",
    "    dic2 = {}\n",
    "    length_l1 = len(l1)\n",
    "    length_l2 = len(l2)\n",
    "    for i in range(length_l1):\n",
    "        for key in list(tempdict.keys()):\n",
    "            if(l1[i] == tempdict.get(key)):\n",
    "                dic1[key] = int(tempdict.get(key))\n",
    "                del tempdict[key]\n",
    "                break;\n",
    "        i +=1\n",
    "    for i in range(length_l2):\n",
    "        for key in list(tempdict.keys()):\n",
    "            if(l2[i] == tempdict.get(key)):\n",
    "                dic2[key] = int(tempdict.get(key))\n",
    "                del tempdict[key]\n",
    "                break;\n",
    "        i +=1\n",
    "    return dic1,dic2\n",
    "    \n",
    "print(\"Person 1 has \",len(sumSplit(liste)[0]),\" files with\",sum(sumSplit(liste)[0]), \"slides\")\n",
    "print(\"Person 2 has \",len(sumSplit(liste)[1]),\" files with\",sum(sumSplit(liste)[1]), \"slides\")\n",
    "#print(sumSplit(liste))\n",
    "dic1,dic2 = SelectFiles(sumSplit(liste)[0],sumSplit(liste)[1])\n",
    "print(\"----------------------------------------------------------------------------------\")\n",
    "print(\"Person 1 detail:\")\n",
    "sum1 = 0\n",
    "for k, v in dic1.items():\n",
    "    sum1 += v\n",
    "print(len(dic1),\" files\")\n",
    "print(sum1, \" slides\")\n",
    "for k, v in dic1.items():\n",
    "    print(k,\"-->\",v)\n",
    "\n",
    "\n",
    "print(\"----------------------------------------------------------------------------------\")\n",
    "print(\"Person 2 detail:\")\n",
    "sum2 = 0\n",
    "for k, v in dic2.items():\n",
    "    sum2 += v\n",
    "print(len(dic2),\" files\")\n",
    "print(sum2, \" slides\")\n",
    "for k, v in dic2.items():\n",
    "    print(k,\"-->\",v)"
   ]
  }
 ],
 "metadata": {
  "kernelspec": {
   "display_name": "Python 3 (ipykernel)",
   "language": "python",
   "name": "python3"
  },
  "language_info": {
   "codemirror_mode": {
    "name": "ipython",
    "version": 3
   },
   "file_extension": ".py",
   "mimetype": "text/x-python",
   "name": "python",
   "nbconvert_exporter": "python",
   "pygments_lexer": "ipython3",
   "version": "3.8.5"
  }
 },
 "nbformat": 4,
 "nbformat_minor": 5
}
